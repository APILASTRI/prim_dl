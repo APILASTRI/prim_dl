{
 "cells": [
  {
   "cell_type": "code",
   "execution_count": 1,
   "metadata": {
    "collapsed": false
   },
   "outputs": [],
   "source": [
    "%matplotlib inline\n",
    "import matplotlib.pyplot as plt\n",
    "import numpy as np\n",
    "import glob\n",
    "from PIL import Image\n",
    "import cv2\n",
    "from settings import *\n",
    "from scripts import *\n",
    "import theano"
   ]
  },
  {
   "cell_type": "code",
   "execution_count": 7,
   "metadata": {
    "collapsed": false,
    "scrolled": true
   },
   "outputs": [],
   "source": [
    "# get the path to the image files\n",
    "file_list = glob.glob(image_dir + '*')\n",
    "\n",
    "# open one image and convert it to YCbCr type\n",
    "img = open_convert(file_list[1], mode='YCbCr')\n",
    "\n",
    "# get the laplacian pyramid of this image\n",
    "lplist = laplacian_pyramid(img, 3)\n",
    "\n",
    "# print len(lplist)\n",
    "# for i in xrange(3):\n",
    "#     print lplist[i].shape\n",
    "#     show_image(lplist[i], mode='YCbCr')\n",
    "\n",
    "img = lecun_lcn(img, kernel_shape=9, threshold=1e-4)\n",
    "img = np.uint8(img)\n",
    "show_image(img, mode='YCbCr')\n"
   ]
  },
  {
   "cell_type": "code",
   "execution_count": 8,
   "metadata": {
    "collapsed": false
   },
   "outputs": [],
   "source": [
    "# lecun_lcn test for lena.png\n",
    "\n",
    "img = open_convert(test_dir + 'lena.png', mode='RGB')\n",
    "\n",
    "img = lecun_lcn(img, kernel_shape=15, threshold=1e-4)\n",
    "\n",
    "img = np.uint8(img)\n",
    "show_image(img, mode='RGB')"
   ]
  },
  {
   "cell_type": "code",
   "execution_count": null,
   "metadata": {
    "collapsed": true
   },
   "outputs": [],
   "source": []
  }
 ],
 "metadata": {
  "kernelspec": {
   "display_name": "Python 2",
   "language": "python",
   "name": "python2"
  },
  "language_info": {
   "codemirror_mode": {
    "name": "ipython",
    "version": 2
   },
   "file_extension": ".py",
   "mimetype": "text/x-python",
   "name": "python",
   "nbconvert_exporter": "python",
   "pygments_lexer": "ipython2",
   "version": "2.7.11"
  }
 },
 "nbformat": 4,
 "nbformat_minor": 0
}
