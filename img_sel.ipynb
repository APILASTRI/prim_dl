{
 "cells": [
  {
   "cell_type": "code",
   "execution_count": 1,
   "metadata": {
    "collapsed": true
   },
   "outputs": [],
   "source": [
    "%matplotlib inline\n",
    "import matplotlib.pyplot as plt\n",
    "import numpy as np\n",
    "import glob\n",
    "from PIL import Image\n",
    "import cv2\n",
    "import csv\n",
    "from settings import *\n",
    "from scripts import *"
   ]
  },
  {
   "cell_type": "code",
   "execution_count": 2,
   "metadata": {
    "collapsed": false
   },
   "outputs": [],
   "source": [
    "# get the info of all the image\n",
    "imageinfo = []\n",
    "with open(list_file) as f:\n",
    "    for line in f:\n",
    "        imageinfo.append(line.split()[0:-1])"
   ]
  },
  {
   "cell_type": "code",
   "execution_count": 3,
   "metadata": {
    "collapsed": false
   },
   "outputs": [],
   "source": [
    "# choose the image with certain size\n",
    "imageselinfo = []\n",
    "for line in imageinfo:\n",
    "    if line[1] == '320' and line[2] == '240':\n",
    "        imageselinfo.append(line)"
   ]
  },
  {
   "cell_type": "code",
   "execution_count": 15,
   "metadata": {
    "collapsed": false
   },
   "outputs": [],
   "source": [
    "for line in imageselinfo:\n",
    "    img = open_convert(image_dir + line[0] + '.jpg', mode='YCbCr')\n",
    "\n",
    "lplist = laplacian_pyramid(img, 3)\n",
    "\n",
    "# for i in xrange(3):\n",
    "#     print lplist[i].shape\n",
    "#     show_image(lplist[i], mode='YCbCr')\n",
    "\n",
    "img = lecun_lcn(img, kernel_shape=15, threshold=1e-4)\n",
    "# img = np.uint8(img)\n",
    "# show_image(img, mode='YCbCr')"
   ]
  },
  {
   "cell_type": "code",
   "execution_count": 4,
   "metadata": {
    "collapsed": false
   },
   "outputs": [
    {
     "name": "stdout",
     "output_type": "stream",
     "text": [
      "240\n"
     ]
    }
   ],
   "source": [
    "label = []\n",
    "with open(label_dir + imageselinfo[0][0] + '.regions.txt') as f:\n",
    "    for line in f:\n",
    "        label.append(line.split())\n",
    "        \n",
    "print len(label)"
   ]
  },
  {
   "cell_type": "code",
   "execution_count": 6,
   "metadata": {
    "collapsed": false
   },
   "outputs": [
    {
     "name": "stdout",
     "output_type": "stream",
     "text": [
      "320\n"
     ]
    }
   ],
   "source": [
    "print len(label[0])"
   ]
  },
  {
   "cell_type": "code",
   "execution_count": null,
   "metadata": {
    "collapsed": true
   },
   "outputs": [],
   "source": []
  }
 ],
 "metadata": {
  "kernelspec": {
   "display_name": "Python 2",
   "language": "python",
   "name": "python2"
  },
  "language_info": {
   "codemirror_mode": {
    "name": "ipython",
    "version": 2
   },
   "file_extension": ".py",
   "mimetype": "text/x-python",
   "name": "python",
   "nbconvert_exporter": "python",
   "pygments_lexer": "ipython2",
   "version": "2.7.11"
  }
 },
 "nbformat": 4,
 "nbformat_minor": 0
}
